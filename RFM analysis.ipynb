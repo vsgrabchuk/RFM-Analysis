{
 "cells": [
  {
   "cell_type": "code",
   "execution_count": 19,
   "metadata": {},
   "outputs": [],
   "source": [
    "import pandas as pd\n",
    "import rfm\n",
    "import seaborn as sns"
   ]
  },
  {
   "cell_type": "code",
   "execution_count": 20,
   "metadata": {},
   "outputs": [],
   "source": [
    "# Настройка графиков\n",
    "sns.set(\n",
    "    font_scale=1.3, \n",
    "    style='whitegrid', \n",
    "    rc={'figure.figsize': (10, 6)}\n",
    ")"
   ]
  },
  {
   "cell_type": "markdown",
   "metadata": {},
   "source": [
    "### Загрузка данных"
   ]
  },
  {
   "cell_type": "code",
   "execution_count": 21,
   "metadata": {},
   "outputs": [],
   "source": [
    "df = pd.read_csv('purchases.csv')"
   ]
  },
  {
   "cell_type": "code",
   "execution_count": 22,
   "metadata": {},
   "outputs": [
    {
     "data": {
      "text/html": [
       "<div>\n",
       "<style scoped>\n",
       "    .dataframe tbody tr th:only-of-type {\n",
       "        vertical-align: middle;\n",
       "    }\n",
       "\n",
       "    .dataframe tbody tr th {\n",
       "        vertical-align: top;\n",
       "    }\n",
       "\n",
       "    .dataframe thead th {\n",
       "        text-align: right;\n",
       "    }\n",
       "</style>\n",
       "<table border=\"1\" class=\"dataframe\">\n",
       "  <thead>\n",
       "    <tr style=\"text-align: right;\">\n",
       "      <th></th>\n",
       "      <th>customer_unique_id</th>\n",
       "      <th>order_id</th>\n",
       "      <th>order_approved_at</th>\n",
       "      <th>product_id</th>\n",
       "      <th>price</th>\n",
       "    </tr>\n",
       "  </thead>\n",
       "  <tbody>\n",
       "    <tr>\n",
       "      <th>0</th>\n",
       "      <td>290c77bc529b7ac935b93aa66c333dc3</td>\n",
       "      <td>29150127e6685892b6eab3eec79f59c7</td>\n",
       "      <td>2018-01-12 20:58:32</td>\n",
       "      <td>4aa6014eceb682077f9dc4bffebc05b0</td>\n",
       "      <td>289.00</td>\n",
       "    </tr>\n",
       "    <tr>\n",
       "      <th>1</th>\n",
       "      <td>060e732b5b29e8181a18229c7b0b2b5e</td>\n",
       "      <td>b2059ed67ce144a36e2aa97d2c9e9ad2</td>\n",
       "      <td>2018-05-20 16:19:10</td>\n",
       "      <td>bd07b66896d6f1494f5b86251848ced7</td>\n",
       "      <td>139.94</td>\n",
       "    </tr>\n",
       "    <tr>\n",
       "      <th>2</th>\n",
       "      <td>259dac757896d24d7702b9acbbff3f3c</td>\n",
       "      <td>951670f92359f4fe4a63112aa7306eba</td>\n",
       "      <td>2018-03-13 17:29:19</td>\n",
       "      <td>a5647c44af977b148e0a3a4751a09e2e</td>\n",
       "      <td>149.94</td>\n",
       "    </tr>\n",
       "    <tr>\n",
       "      <th>3</th>\n",
       "      <td>345ecd01c38d18a9036ed96c73b8d066</td>\n",
       "      <td>6b7d50bd145f6fc7f33cebabd7e49d0f</td>\n",
       "      <td>2018-07-29 10:10:09</td>\n",
       "      <td>9391a573abe00141c56e38d84d7d5b3b</td>\n",
       "      <td>230.00</td>\n",
       "    </tr>\n",
       "    <tr>\n",
       "      <th>4</th>\n",
       "      <td>4c93744516667ad3b8f1fb645a3116a4</td>\n",
       "      <td>5741ea1f91b5fbab2bd2dc653a5b5099</td>\n",
       "      <td>2017-09-14 18:25:11</td>\n",
       "      <td>0be701e03657109a8a4d5168122777fb</td>\n",
       "      <td>259.90</td>\n",
       "    </tr>\n",
       "  </tbody>\n",
       "</table>\n",
       "</div>"
      ],
      "text/plain": [
       "                 customer_unique_id                          order_id  \\\n",
       "0  290c77bc529b7ac935b93aa66c333dc3  29150127e6685892b6eab3eec79f59c7   \n",
       "1  060e732b5b29e8181a18229c7b0b2b5e  b2059ed67ce144a36e2aa97d2c9e9ad2   \n",
       "2  259dac757896d24d7702b9acbbff3f3c  951670f92359f4fe4a63112aa7306eba   \n",
       "3  345ecd01c38d18a9036ed96c73b8d066  6b7d50bd145f6fc7f33cebabd7e49d0f   \n",
       "4  4c93744516667ad3b8f1fb645a3116a4  5741ea1f91b5fbab2bd2dc653a5b5099   \n",
       "\n",
       "     order_approved_at                        product_id   price  \n",
       "0  2018-01-12 20:58:32  4aa6014eceb682077f9dc4bffebc05b0  289.00  \n",
       "1  2018-05-20 16:19:10  bd07b66896d6f1494f5b86251848ced7  139.94  \n",
       "2  2018-03-13 17:29:19  a5647c44af977b148e0a3a4751a09e2e  149.94  \n",
       "3  2018-07-29 10:10:09  9391a573abe00141c56e38d84d7d5b3b  230.00  \n",
       "4  2017-09-14 18:25:11  0be701e03657109a8a4d5168122777fb  259.90  "
      ]
     },
     "execution_count": 22,
     "metadata": {},
     "output_type": "execute_result"
    }
   ],
   "source": [
    "df.head()"
   ]
  },
  {
   "cell_type": "code",
   "execution_count": 23,
   "metadata": {},
   "outputs": [
    {
     "data": {
      "text/plain": [
       "customer_unique_id     object\n",
       "order_id               object\n",
       "order_approved_at      object\n",
       "product_id             object\n",
       "price                 float64\n",
       "dtype: object"
      ]
     },
     "execution_count": 23,
     "metadata": {},
     "output_type": "execute_result"
    }
   ],
   "source": [
    "df.dtypes"
   ]
  },
  {
   "cell_type": "code",
   "execution_count": 24,
   "metadata": {},
   "outputs": [],
   "source": [
    "df.order_approved_at = pd.to_datetime(df.order_approved_at)"
   ]
  },
  {
   "cell_type": "code",
   "execution_count": 25,
   "metadata": {},
   "outputs": [
    {
     "data": {
      "text/plain": [
       "customer_unique_id            object\n",
       "order_id                      object\n",
       "order_approved_at     datetime64[ns]\n",
       "product_id                    object\n",
       "price                        float64\n",
       "dtype: object"
      ]
     },
     "execution_count": 25,
     "metadata": {},
     "output_type": "execute_result"
    }
   ],
   "source": [
    "df.dtypes"
   ]
  },
  {
   "cell_type": "markdown",
   "metadata": {},
   "source": [
    "### RFM anaslysis"
   ]
  },
  {
   "cell_type": "markdown",
   "metadata": {},
   "source": [
    "Единица покупки - заказ"
   ]
  },
  {
   "cell_type": "code",
   "execution_count": 26,
   "metadata": {},
   "outputs": [],
   "source": [
    "df = (\n",
    "    df\n",
    "    .groupby(['customer_unique_id', 'order_id', 'order_approved_at'], as_index=False)\n",
    "    .price.sum()\n",
    ")"
   ]
  },
  {
   "cell_type": "code",
   "execution_count": 27,
   "metadata": {},
   "outputs": [
    {
     "data": {
      "text/html": [
       "<div>\n",
       "<style scoped>\n",
       "    .dataframe tbody tr th:only-of-type {\n",
       "        vertical-align: middle;\n",
       "    }\n",
       "\n",
       "    .dataframe tbody tr th {\n",
       "        vertical-align: top;\n",
       "    }\n",
       "\n",
       "    .dataframe thead th {\n",
       "        text-align: right;\n",
       "    }\n",
       "</style>\n",
       "<table border=\"1\" class=\"dataframe\">\n",
       "  <thead>\n",
       "    <tr style=\"text-align: right;\">\n",
       "      <th></th>\n",
       "      <th>customer_unique_id</th>\n",
       "      <th>order_id</th>\n",
       "      <th>order_approved_at</th>\n",
       "      <th>price</th>\n",
       "    </tr>\n",
       "  </thead>\n",
       "  <tbody>\n",
       "    <tr>\n",
       "      <th>0</th>\n",
       "      <td>0000366f3b9a7992bf8c76cfdf3221e2</td>\n",
       "      <td>e22acc9c116caa3f2b7121bbb380d08e</td>\n",
       "      <td>2018-05-10 11:11:18</td>\n",
       "      <td>129.90</td>\n",
       "    </tr>\n",
       "    <tr>\n",
       "      <th>1</th>\n",
       "      <td>0000b849f77a49e4a4ce2b2a4ca5be3f</td>\n",
       "      <td>3594e05a005ac4d06a72673270ef9ec9</td>\n",
       "      <td>2018-05-07 18:25:44</td>\n",
       "      <td>18.90</td>\n",
       "    </tr>\n",
       "    <tr>\n",
       "      <th>2</th>\n",
       "      <td>0000f6ccb0745a6a4b88665a16c9f078</td>\n",
       "      <td>41272756ecddd9a9ed0180413cc22fb6</td>\n",
       "      <td>2017-10-12 20:49:17</td>\n",
       "      <td>25.99</td>\n",
       "    </tr>\n",
       "    <tr>\n",
       "      <th>3</th>\n",
       "      <td>0004aac84e0df4da2b147fca70cf8255</td>\n",
       "      <td>d957021f1127559cd947b62533f484f7</td>\n",
       "      <td>2017-11-14 20:06:52</td>\n",
       "      <td>180.00</td>\n",
       "    </tr>\n",
       "    <tr>\n",
       "      <th>4</th>\n",
       "      <td>0004bd2a26a76fe21f786e4fbd80607f</td>\n",
       "      <td>3e470077b690ea3e3d501cffb5e0c499</td>\n",
       "      <td>2018-04-05 19:48:59</td>\n",
       "      <td>154.00</td>\n",
       "    </tr>\n",
       "  </tbody>\n",
       "</table>\n",
       "</div>"
      ],
      "text/plain": [
       "                 customer_unique_id                          order_id  \\\n",
       "0  0000366f3b9a7992bf8c76cfdf3221e2  e22acc9c116caa3f2b7121bbb380d08e   \n",
       "1  0000b849f77a49e4a4ce2b2a4ca5be3f  3594e05a005ac4d06a72673270ef9ec9   \n",
       "2  0000f6ccb0745a6a4b88665a16c9f078  41272756ecddd9a9ed0180413cc22fb6   \n",
       "3  0004aac84e0df4da2b147fca70cf8255  d957021f1127559cd947b62533f484f7   \n",
       "4  0004bd2a26a76fe21f786e4fbd80607f  3e470077b690ea3e3d501cffb5e0c499   \n",
       "\n",
       "    order_approved_at   price  \n",
       "0 2018-05-10 11:11:18  129.90  \n",
       "1 2018-05-07 18:25:44   18.90  \n",
       "2 2017-10-12 20:49:17   25.99  \n",
       "3 2017-11-14 20:06:52  180.00  \n",
       "4 2018-04-05 19:48:59  154.00  "
      ]
     },
     "execution_count": 27,
     "metadata": {},
     "output_type": "execute_result"
    }
   ],
   "source": [
    "df.head()"
   ]
  },
  {
   "cell_type": "code",
   "execution_count": 28,
   "metadata": {},
   "outputs": [
    {
     "data": {
      "text/plain": [
       "(74498, 4)"
      ]
     },
     "execution_count": 28,
     "metadata": {},
     "output_type": "execute_result"
    }
   ],
   "source": [
    "df.shape"
   ]
  },
  {
   "cell_type": "markdown",
   "metadata": {},
   "source": [
    "Текущая дата"
   ]
  },
  {
   "cell_type": "code",
   "execution_count": 29,
   "metadata": {},
   "outputs": [
    {
     "data": {
      "text/plain": [
       "Timestamp('2018-08-30 15:10:26')"
      ]
     },
     "execution_count": 29,
     "metadata": {},
     "output_type": "execute_result"
    }
   ],
   "source": [
    "now = df['order_approved_at'].max() + pd.Timedelta(days=1)\n",
    "now"
   ]
  },
  {
   "cell_type": "markdown",
   "metadata": {},
   "source": [
    "df с колонками recency, frequency, monetary"
   ]
  },
  {
   "cell_type": "code",
   "execution_count": 30,
   "metadata": {},
   "outputs": [
    {
     "data": {
      "text/html": [
       "<div>\n",
       "<style scoped>\n",
       "    .dataframe tbody tr th:only-of-type {\n",
       "        vertical-align: middle;\n",
       "    }\n",
       "\n",
       "    .dataframe tbody tr th {\n",
       "        vertical-align: top;\n",
       "    }\n",
       "\n",
       "    .dataframe thead th {\n",
       "        text-align: right;\n",
       "    }\n",
       "</style>\n",
       "<table border=\"1\" class=\"dataframe\">\n",
       "  <thead>\n",
       "    <tr style=\"text-align: right;\">\n",
       "      <th></th>\n",
       "      <th>customer_unique_id</th>\n",
       "      <th>recency</th>\n",
       "      <th>frequency</th>\n",
       "      <th>monetary</th>\n",
       "    </tr>\n",
       "  </thead>\n",
       "  <tbody>\n",
       "    <tr>\n",
       "      <th>0</th>\n",
       "      <td>0000366f3b9a7992bf8c76cfdf3221e2</td>\n",
       "      <td>112</td>\n",
       "      <td>1</td>\n",
       "      <td>129.90</td>\n",
       "    </tr>\n",
       "    <tr>\n",
       "      <th>1</th>\n",
       "      <td>0000b849f77a49e4a4ce2b2a4ca5be3f</td>\n",
       "      <td>114</td>\n",
       "      <td>1</td>\n",
       "      <td>18.90</td>\n",
       "    </tr>\n",
       "    <tr>\n",
       "      <th>2</th>\n",
       "      <td>0000f6ccb0745a6a4b88665a16c9f078</td>\n",
       "      <td>321</td>\n",
       "      <td>1</td>\n",
       "      <td>25.99</td>\n",
       "    </tr>\n",
       "    <tr>\n",
       "      <th>3</th>\n",
       "      <td>0004aac84e0df4da2b147fca70cf8255</td>\n",
       "      <td>288</td>\n",
       "      <td>1</td>\n",
       "      <td>180.00</td>\n",
       "    </tr>\n",
       "    <tr>\n",
       "      <th>4</th>\n",
       "      <td>0004bd2a26a76fe21f786e4fbd80607f</td>\n",
       "      <td>146</td>\n",
       "      <td>1</td>\n",
       "      <td>154.00</td>\n",
       "    </tr>\n",
       "    <tr>\n",
       "      <th>...</th>\n",
       "      <td>...</td>\n",
       "      <td>...</td>\n",
       "      <td>...</td>\n",
       "      <td>...</td>\n",
       "    </tr>\n",
       "    <tr>\n",
       "      <th>72519</th>\n",
       "      <td>fffa431dd3fcdefea4b1777d114144f2</td>\n",
       "      <td>303</td>\n",
       "      <td>1</td>\n",
       "      <td>64.99</td>\n",
       "    </tr>\n",
       "    <tr>\n",
       "      <th>72520</th>\n",
       "      <td>fffb09418989a0dbff854a28163e47c6</td>\n",
       "      <td>254</td>\n",
       "      <td>1</td>\n",
       "      <td>58.00</td>\n",
       "    </tr>\n",
       "    <tr>\n",
       "      <th>72521</th>\n",
       "      <td>fffbf87b7a1a6fa8b03f081c5f51a201</td>\n",
       "      <td>245</td>\n",
       "      <td>1</td>\n",
       "      <td>149.00</td>\n",
       "    </tr>\n",
       "    <tr>\n",
       "      <th>72522</th>\n",
       "      <td>fffea47cd6d3cc0a88bd621562a9d061</td>\n",
       "      <td>262</td>\n",
       "      <td>1</td>\n",
       "      <td>64.89</td>\n",
       "    </tr>\n",
       "    <tr>\n",
       "      <th>72523</th>\n",
       "      <td>ffff5962728ec6157033ef9805bacc48</td>\n",
       "      <td>119</td>\n",
       "      <td>1</td>\n",
       "      <td>115.00</td>\n",
       "    </tr>\n",
       "  </tbody>\n",
       "</table>\n",
       "<p>72524 rows × 4 columns</p>\n",
       "</div>"
      ],
      "text/plain": [
       "                     customer_unique_id  recency  frequency  monetary\n",
       "0      0000366f3b9a7992bf8c76cfdf3221e2      112          1    129.90\n",
       "1      0000b849f77a49e4a4ce2b2a4ca5be3f      114          1     18.90\n",
       "2      0000f6ccb0745a6a4b88665a16c9f078      321          1     25.99\n",
       "3      0004aac84e0df4da2b147fca70cf8255      288          1    180.00\n",
       "4      0004bd2a26a76fe21f786e4fbd80607f      146          1    154.00\n",
       "...                                 ...      ...        ...       ...\n",
       "72519  fffa431dd3fcdefea4b1777d114144f2      303          1     64.99\n",
       "72520  fffb09418989a0dbff854a28163e47c6      254          1     58.00\n",
       "72521  fffbf87b7a1a6fa8b03f081c5f51a201      245          1    149.00\n",
       "72522  fffea47cd6d3cc0a88bd621562a9d061      262          1     64.89\n",
       "72523  ffff5962728ec6157033ef9805bacc48      119          1    115.00\n",
       "\n",
       "[72524 rows x 4 columns]"
      ]
     },
     "execution_count": 30,
     "metadata": {},
     "output_type": "execute_result"
    }
   ],
   "source": [
    "rfm_df = rfm.get_rfm_values(\n",
    "    df=df,\n",
    "    unit_id='customer_unique_id',\n",
    "    money='price',\n",
    "    time='order_approved_at',\n",
    "    now=now,\n",
    "    time_horizon=365\n",
    ")\n",
    "rfm_df"
   ]
  },
  {
   "cell_type": "markdown",
   "metadata": {},
   "source": [
    "_Оценка rfm параметров_"
   ]
  },
  {
   "cell_type": "code",
   "execution_count": 31,
   "metadata": {},
   "outputs": [],
   "source": [
    "max_score = 3  # Максимальная оценка для rmf-анализа"
   ]
  },
  {
   "cell_type": "code",
   "execution_count": 32,
   "metadata": {},
   "outputs": [
    {
     "name": "stdout",
     "output_type": "stream",
     "text": [
      "{'bins_for_scores': {'1': '[226.0, 364]',\n",
      "                     '2': '[118.0, 226.0]',\n",
      "                     '3': '[1, 118.0]'}}\n"
     ]
    }
   ],
   "source": [
    "rfm_df = rfm.get_rfm_score(\n",
    "    df=rfm_df,\n",
    "    score_column='recency',\n",
    "    score_name='r',\n",
    "    max_score=max_score,\n",
    "    add_score_bins=True\n",
    ")"
   ]
  },
  {
   "cell_type": "code",
   "execution_count": 33,
   "metadata": {},
   "outputs": [
    {
     "name": "stdout",
     "output_type": "stream",
     "text": [
      "AUTO ADJUSTMENT max_score=3 -> 2\n",
      "{'bins_for_scores': {'1': '[1, 1.0]', '2': '[1.0, 11]'}}\n"
     ]
    }
   ],
   "source": [
    "rfm_df = rfm.get_rfm_score(\n",
    "    df=rfm_df,\n",
    "    score_column='frequency',\n",
    "    score_name='f',\n",
    "    max_score=max_score,\n",
    "    add_score_bins=True,\n",
    "    auto_max_score_adjust=True\n",
    ")"
   ]
  },
  {
   "cell_type": "code",
   "execution_count": 34,
   "metadata": {},
   "outputs": [
    {
     "name": "stdout",
     "output_type": "stream",
     "text": [
      "{'bins_for_scores': {'1': '[0.85, 58.67]',\n",
      "                     '2': '[58.67, 128.8]',\n",
      "                     '3': '[128.8, 13440.0]'}}\n"
     ]
    }
   ],
   "source": [
    "rfm_df = rfm.get_rfm_score(\n",
    "    df=rfm_df,\n",
    "    score_column='monetary',\n",
    "    score_name='m',\n",
    "    max_score=max_score,\n",
    "    add_score_bins=True,\n",
    "    auto_max_score_adjust=True\n",
    ")"
   ]
  },
  {
   "cell_type": "code",
   "execution_count": 35,
   "metadata": {},
   "outputs": [],
   "source": [
    "rfm_df = rfm.get_rfm_agg(\n",
    "    df=rfm_df,\n",
    "    unit_id='customer_unique_id',\n",
    "    use_bins=True\n",
    ")"
   ]
  },
  {
   "cell_type": "code",
   "execution_count": 36,
   "metadata": {},
   "outputs": [
    {
     "data": {
      "text/html": [
       "<div>\n",
       "<style scoped>\n",
       "    .dataframe tbody tr th:only-of-type {\n",
       "        vertical-align: middle;\n",
       "    }\n",
       "\n",
       "    .dataframe tbody tr th {\n",
       "        vertical-align: top;\n",
       "    }\n",
       "\n",
       "    .dataframe thead th {\n",
       "        text-align: right;\n",
       "    }\n",
       "</style>\n",
       "<table border=\"1\" class=\"dataframe\">\n",
       "  <thead>\n",
       "    <tr style=\"text-align: right;\">\n",
       "      <th></th>\n",
       "      <th>rfm</th>\n",
       "      <th>r_bin</th>\n",
       "      <th>f_bin</th>\n",
       "      <th>m_bin</th>\n",
       "      <th>amount</th>\n",
       "    </tr>\n",
       "  </thead>\n",
       "  <tbody>\n",
       "    <tr>\n",
       "      <th>0</th>\n",
       "      <td>323</td>\n",
       "      <td>[1, 118.0]</td>\n",
       "      <td>[1.0, 11]</td>\n",
       "      <td>[128.8, 13440.0]</td>\n",
       "      <td>486</td>\n",
       "    </tr>\n",
       "    <tr>\n",
       "      <th>1</th>\n",
       "      <td>322</td>\n",
       "      <td>[1, 118.0]</td>\n",
       "      <td>[1.0, 11]</td>\n",
       "      <td>[58.67, 128.8]</td>\n",
       "      <td>167</td>\n",
       "    </tr>\n",
       "    <tr>\n",
       "      <th>2</th>\n",
       "      <td>321</td>\n",
       "      <td>[1, 118.0]</td>\n",
       "      <td>[1.0, 11]</td>\n",
       "      <td>[0.85, 58.67]</td>\n",
       "      <td>48</td>\n",
       "    </tr>\n",
       "    <tr>\n",
       "      <th>3</th>\n",
       "      <td>313</td>\n",
       "      <td>[1, 118.0]</td>\n",
       "      <td>[1, 1.0]</td>\n",
       "      <td>[128.8, 13440.0]</td>\n",
       "      <td>7637</td>\n",
       "    </tr>\n",
       "    <tr>\n",
       "      <th>4</th>\n",
       "      <td>312</td>\n",
       "      <td>[1, 118.0]</td>\n",
       "      <td>[1, 1.0]</td>\n",
       "      <td>[58.67, 128.8]</td>\n",
       "      <td>8075</td>\n",
       "    </tr>\n",
       "    <tr>\n",
       "      <th>5</th>\n",
       "      <td>311</td>\n",
       "      <td>[1, 118.0]</td>\n",
       "      <td>[1, 1.0]</td>\n",
       "      <td>[0.85, 58.67]</td>\n",
       "      <td>8031</td>\n",
       "    </tr>\n",
       "    <tr>\n",
       "      <th>6</th>\n",
       "      <td>223</td>\n",
       "      <td>[118.0, 226.0]</td>\n",
       "      <td>[1.0, 11]</td>\n",
       "      <td>[128.8, 13440.0]</td>\n",
       "      <td>461</td>\n",
       "    </tr>\n",
       "    <tr>\n",
       "      <th>7</th>\n",
       "      <td>222</td>\n",
       "      <td>[118.0, 226.0]</td>\n",
       "      <td>[1.0, 11]</td>\n",
       "      <td>[58.67, 128.8]</td>\n",
       "      <td>153</td>\n",
       "    </tr>\n",
       "    <tr>\n",
       "      <th>8</th>\n",
       "      <td>221</td>\n",
       "      <td>[118.0, 226.0]</td>\n",
       "      <td>[1.0, 11]</td>\n",
       "      <td>[0.85, 58.67]</td>\n",
       "      <td>41</td>\n",
       "    </tr>\n",
       "    <tr>\n",
       "      <th>9</th>\n",
       "      <td>213</td>\n",
       "      <td>[118.0, 226.0]</td>\n",
       "      <td>[1, 1.0]</td>\n",
       "      <td>[128.8, 13440.0]</td>\n",
       "      <td>7666</td>\n",
       "    </tr>\n",
       "    <tr>\n",
       "      <th>10</th>\n",
       "      <td>212</td>\n",
       "      <td>[118.0, 226.0]</td>\n",
       "      <td>[1, 1.0]</td>\n",
       "      <td>[58.67, 128.8]</td>\n",
       "      <td>7614</td>\n",
       "    </tr>\n",
       "    <tr>\n",
       "      <th>11</th>\n",
       "      <td>211</td>\n",
       "      <td>[118.0, 226.0]</td>\n",
       "      <td>[1, 1.0]</td>\n",
       "      <td>[0.85, 58.67]</td>\n",
       "      <td>8258</td>\n",
       "    </tr>\n",
       "    <tr>\n",
       "      <th>12</th>\n",
       "      <td>123</td>\n",
       "      <td>[226.0, 364]</td>\n",
       "      <td>[1.0, 11]</td>\n",
       "      <td>[128.8, 13440.0]</td>\n",
       "      <td>284</td>\n",
       "    </tr>\n",
       "    <tr>\n",
       "      <th>13</th>\n",
       "      <td>122</td>\n",
       "      <td>[226.0, 364]</td>\n",
       "      <td>[1.0, 11]</td>\n",
       "      <td>[58.67, 128.8]</td>\n",
       "      <td>136</td>\n",
       "    </tr>\n",
       "    <tr>\n",
       "      <th>14</th>\n",
       "      <td>121</td>\n",
       "      <td>[226.0, 364]</td>\n",
       "      <td>[1.0, 11]</td>\n",
       "      <td>[0.85, 58.67]</td>\n",
       "      <td>25</td>\n",
       "    </tr>\n",
       "    <tr>\n",
       "      <th>15</th>\n",
       "      <td>113</td>\n",
       "      <td>[226.0, 364]</td>\n",
       "      <td>[1, 1.0]</td>\n",
       "      <td>[128.8, 13440.0]</td>\n",
       "      <td>7635</td>\n",
       "    </tr>\n",
       "    <tr>\n",
       "      <th>16</th>\n",
       "      <td>112</td>\n",
       "      <td>[226.0, 364]</td>\n",
       "      <td>[1, 1.0]</td>\n",
       "      <td>[58.67, 128.8]</td>\n",
       "      <td>8022</td>\n",
       "    </tr>\n",
       "    <tr>\n",
       "      <th>17</th>\n",
       "      <td>111</td>\n",
       "      <td>[226.0, 364]</td>\n",
       "      <td>[1, 1.0]</td>\n",
       "      <td>[0.85, 58.67]</td>\n",
       "      <td>7785</td>\n",
       "    </tr>\n",
       "  </tbody>\n",
       "</table>\n",
       "</div>"
      ],
      "text/plain": [
       "    rfm           r_bin      f_bin             m_bin  amount\n",
       "0   323      [1, 118.0]  [1.0, 11]  [128.8, 13440.0]     486\n",
       "1   322      [1, 118.0]  [1.0, 11]    [58.67, 128.8]     167\n",
       "2   321      [1, 118.0]  [1.0, 11]     [0.85, 58.67]      48\n",
       "3   313      [1, 118.0]   [1, 1.0]  [128.8, 13440.0]    7637\n",
       "4   312      [1, 118.0]   [1, 1.0]    [58.67, 128.8]    8075\n",
       "5   311      [1, 118.0]   [1, 1.0]     [0.85, 58.67]    8031\n",
       "6   223  [118.0, 226.0]  [1.0, 11]  [128.8, 13440.0]     461\n",
       "7   222  [118.0, 226.0]  [1.0, 11]    [58.67, 128.8]     153\n",
       "8   221  [118.0, 226.0]  [1.0, 11]     [0.85, 58.67]      41\n",
       "9   213  [118.0, 226.0]   [1, 1.0]  [128.8, 13440.0]    7666\n",
       "10  212  [118.0, 226.0]   [1, 1.0]    [58.67, 128.8]    7614\n",
       "11  211  [118.0, 226.0]   [1, 1.0]     [0.85, 58.67]    8258\n",
       "12  123    [226.0, 364]  [1.0, 11]  [128.8, 13440.0]     284\n",
       "13  122    [226.0, 364]  [1.0, 11]    [58.67, 128.8]     136\n",
       "14  121    [226.0, 364]  [1.0, 11]     [0.85, 58.67]      25\n",
       "15  113    [226.0, 364]   [1, 1.0]  [128.8, 13440.0]    7635\n",
       "16  112    [226.0, 364]   [1, 1.0]    [58.67, 128.8]    8022\n",
       "17  111    [226.0, 364]   [1, 1.0]     [0.85, 58.67]    7785"
      ]
     },
     "execution_count": 36,
     "metadata": {},
     "output_type": "execute_result"
    }
   ],
   "source": [
    "rfm_df"
   ]
  },
  {
   "cell_type": "code",
   "execution_count": 37,
   "metadata": {},
   "outputs": [
    {
     "data": {
      "image/png": "[encoded data removed]",
      "text/plain": [
       "<Figure size 1000x600 with 1 Axes>"
      ]
     },
     "metadata": {},
     "output_type": "display_data"
    }
   ],
   "source": [
    "sns.barplot(data=rfm_df, x='amount', y='rfm');"
   ]
  },
  {
   "cell_type": "markdown",
   "metadata": {},
   "source": [
    "#### Выводы\n",
    "- Основной сегмент пользователей - пользователи с низкой частотой покупок\n",
    "- Это и основная проблема\n",
    "  - \\*Это не новые пользователи, поскольку данные собраны за достаточно большой временной период, на котором почти все пользователи делали лишь одну покупку\n",
    "- Возможно, это связано со спецификой магазина (специфичные товары, которые достаточно купить один раз на большой временной промежуток + розничная торговля)\n",
    "- Или, возможно, это связано с неэффективным маркетингом\n",
    "- Необходимо как-то увеличивать retention"
   ]
  },
  {
   "cell_type": "markdown",
   "metadata": {},
   "source": [
    "_Расшифровка сегментов пользователей_"
   ]
  },
  {
   "cell_type": "code",
   "execution_count": 38,
   "metadata": {},
   "outputs": [
    {
     "data": {
      "text/html": [
       "<div>\n",
       "<style scoped>\n",
       "    .dataframe tbody tr th:only-of-type {\n",
       "        vertical-align: middle;\n",
       "    }\n",
       "\n",
       "    .dataframe tbody tr th {\n",
       "        vertical-align: top;\n",
       "    }\n",
       "\n",
       "    .dataframe thead th {\n",
       "        text-align: right;\n",
       "    }\n",
       "</style>\n",
       "<table border=\"1\" class=\"dataframe\">\n",
       "  <thead>\n",
       "    <tr style=\"text-align: right;\">\n",
       "      <th></th>\n",
       "      <th>rfm</th>\n",
       "      <th>r_bin</th>\n",
       "      <th>f_bin</th>\n",
       "      <th>m_bin</th>\n",
       "      <th>amount</th>\n",
       "      <th>segment</th>\n",
       "    </tr>\n",
       "  </thead>\n",
       "  <tbody>\n",
       "    <tr>\n",
       "      <th>0</th>\n",
       "      <td>323</td>\n",
       "      <td>[1, 118.0]</td>\n",
       "      <td>[1.0, 11]</td>\n",
       "      <td>[128.8, 13440.0]</td>\n",
       "      <td>486</td>\n",
       "      <td>лучшие</td>\n",
       "    </tr>\n",
       "    <tr>\n",
       "      <th>1</th>\n",
       "      <td>322</td>\n",
       "      <td>[1, 118.0]</td>\n",
       "      <td>[1.0, 11]</td>\n",
       "      <td>[58.67, 128.8]</td>\n",
       "      <td>167</td>\n",
       "      <td>хорошие (увеличить средний чек?)</td>\n",
       "    </tr>\n",
       "    <tr>\n",
       "      <th>2</th>\n",
       "      <td>321</td>\n",
       "      <td>[1, 118.0]</td>\n",
       "      <td>[1.0, 11]</td>\n",
       "      <td>[0.85, 58.67]</td>\n",
       "      <td>48</td>\n",
       "      <td>хорошие (увеличить средний чек?)</td>\n",
       "    </tr>\n",
       "    <tr>\n",
       "      <th>3</th>\n",
       "      <td>313</td>\n",
       "      <td>[1, 118.0]</td>\n",
       "      <td>[1, 1.0]</td>\n",
       "      <td>[128.8, 13440.0]</td>\n",
       "      <td>7637</td>\n",
       "      <td>новички</td>\n",
       "    </tr>\n",
       "    <tr>\n",
       "      <th>4</th>\n",
       "      <td>312</td>\n",
       "      <td>[1, 118.0]</td>\n",
       "      <td>[1, 1.0]</td>\n",
       "      <td>[58.67, 128.8]</td>\n",
       "      <td>8075</td>\n",
       "      <td>новички</td>\n",
       "    </tr>\n",
       "    <tr>\n",
       "      <th>5</th>\n",
       "      <td>311</td>\n",
       "      <td>[1, 118.0]</td>\n",
       "      <td>[1, 1.0]</td>\n",
       "      <td>[0.85, 58.67]</td>\n",
       "      <td>8031</td>\n",
       "      <td>новички</td>\n",
       "    </tr>\n",
       "    <tr>\n",
       "      <th>6</th>\n",
       "      <td>223</td>\n",
       "      <td>[118.0, 226.0]</td>\n",
       "      <td>[1.0, 11]</td>\n",
       "      <td>[128.8, 13440.0]</td>\n",
       "      <td>461</td>\n",
       "      <td>хорошие (напомнить/стимулировать?)</td>\n",
       "    </tr>\n",
       "    <tr>\n",
       "      <th>7</th>\n",
       "      <td>222</td>\n",
       "      <td>[118.0, 226.0]</td>\n",
       "      <td>[1.0, 11]</td>\n",
       "      <td>[58.67, 128.8]</td>\n",
       "      <td>153</td>\n",
       "      <td>хорошие (напомнить/стимулировать?)</td>\n",
       "    </tr>\n",
       "    <tr>\n",
       "      <th>8</th>\n",
       "      <td>221</td>\n",
       "      <td>[118.0, 226.0]</td>\n",
       "      <td>[1.0, 11]</td>\n",
       "      <td>[0.85, 58.67]</td>\n",
       "      <td>41</td>\n",
       "      <td>хорошие (напомнить/стимулировать?)</td>\n",
       "    </tr>\n",
       "    <tr>\n",
       "      <th>9</th>\n",
       "      <td>213</td>\n",
       "      <td>[118.0, 226.0]</td>\n",
       "      <td>[1, 1.0]</td>\n",
       "      <td>[128.8, 13440.0]</td>\n",
       "      <td>7666</td>\n",
       "      <td>не поняли ценность продукта (есть шанс?)</td>\n",
       "    </tr>\n",
       "    <tr>\n",
       "      <th>10</th>\n",
       "      <td>212</td>\n",
       "      <td>[118.0, 226.0]</td>\n",
       "      <td>[1, 1.0]</td>\n",
       "      <td>[58.67, 128.8]</td>\n",
       "      <td>7614</td>\n",
       "      <td>не поняли ценность продукта (есть шанс?)</td>\n",
       "    </tr>\n",
       "    <tr>\n",
       "      <th>11</th>\n",
       "      <td>211</td>\n",
       "      <td>[118.0, 226.0]</td>\n",
       "      <td>[1, 1.0]</td>\n",
       "      <td>[0.85, 58.67]</td>\n",
       "      <td>8258</td>\n",
       "      <td>не поняли ценность продукта (есть шанс?)</td>\n",
       "    </tr>\n",
       "    <tr>\n",
       "      <th>12</th>\n",
       "      <td>123</td>\n",
       "      <td>[226.0, 364]</td>\n",
       "      <td>[1.0, 11]</td>\n",
       "      <td>[128.8, 13440.0]</td>\n",
       "      <td>284</td>\n",
       "      <td>нужно вернуть</td>\n",
       "    </tr>\n",
       "    <tr>\n",
       "      <th>13</th>\n",
       "      <td>122</td>\n",
       "      <td>[226.0, 364]</td>\n",
       "      <td>[1.0, 11]</td>\n",
       "      <td>[58.67, 128.8]</td>\n",
       "      <td>136</td>\n",
       "      <td>нужно вернуть</td>\n",
       "    </tr>\n",
       "    <tr>\n",
       "      <th>14</th>\n",
       "      <td>121</td>\n",
       "      <td>[226.0, 364]</td>\n",
       "      <td>[1.0, 11]</td>\n",
       "      <td>[0.85, 58.67]</td>\n",
       "      <td>25</td>\n",
       "      <td>нужно вернуть</td>\n",
       "    </tr>\n",
       "    <tr>\n",
       "      <th>15</th>\n",
       "      <td>113</td>\n",
       "      <td>[226.0, 364]</td>\n",
       "      <td>[1, 1.0]</td>\n",
       "      <td>[128.8, 13440.0]</td>\n",
       "      <td>7635</td>\n",
       "      <td>не поняли ценность продукта</td>\n",
       "    </tr>\n",
       "    <tr>\n",
       "      <th>16</th>\n",
       "      <td>112</td>\n",
       "      <td>[226.0, 364]</td>\n",
       "      <td>[1, 1.0]</td>\n",
       "      <td>[58.67, 128.8]</td>\n",
       "      <td>8022</td>\n",
       "      <td>не поняли ценность продукта</td>\n",
       "    </tr>\n",
       "    <tr>\n",
       "      <th>17</th>\n",
       "      <td>111</td>\n",
       "      <td>[226.0, 364]</td>\n",
       "      <td>[1, 1.0]</td>\n",
       "      <td>[0.85, 58.67]</td>\n",
       "      <td>7785</td>\n",
       "      <td>худшие</td>\n",
       "    </tr>\n",
       "  </tbody>\n",
       "</table>\n",
       "</div>"
      ],
      "text/plain": [
       "    rfm           r_bin      f_bin             m_bin  amount  \\\n",
       "0   323      [1, 118.0]  [1.0, 11]  [128.8, 13440.0]     486   \n",
       "1   322      [1, 118.0]  [1.0, 11]    [58.67, 128.8]     167   \n",
       "2   321      [1, 118.0]  [1.0, 11]     [0.85, 58.67]      48   \n",
       "3   313      [1, 118.0]   [1, 1.0]  [128.8, 13440.0]    7637   \n",
       "4   312      [1, 118.0]   [1, 1.0]    [58.67, 128.8]    8075   \n",
       "5   311      [1, 118.0]   [1, 1.0]     [0.85, 58.67]    8031   \n",
       "6   223  [118.0, 226.0]  [1.0, 11]  [128.8, 13440.0]     461   \n",
       "7   222  [118.0, 226.0]  [1.0, 11]    [58.67, 128.8]     153   \n",
       "8   221  [118.0, 226.0]  [1.0, 11]     [0.85, 58.67]      41   \n",
       "9   213  [118.0, 226.0]   [1, 1.0]  [128.8, 13440.0]    7666   \n",
       "10  212  [118.0, 226.0]   [1, 1.0]    [58.67, 128.8]    7614   \n",
       "11  211  [118.0, 226.0]   [1, 1.0]     [0.85, 58.67]    8258   \n",
       "12  123    [226.0, 364]  [1.0, 11]  [128.8, 13440.0]     284   \n",
       "13  122    [226.0, 364]  [1.0, 11]    [58.67, 128.8]     136   \n",
       "14  121    [226.0, 364]  [1.0, 11]     [0.85, 58.67]      25   \n",
       "15  113    [226.0, 364]   [1, 1.0]  [128.8, 13440.0]    7635   \n",
       "16  112    [226.0, 364]   [1, 1.0]    [58.67, 128.8]    8022   \n",
       "17  111    [226.0, 364]   [1, 1.0]     [0.85, 58.67]    7785   \n",
       "\n",
       "                                     segment  \n",
       "0                                     лучшие  \n",
       "1           хорошие (увеличить средний чек?)  \n",
       "2           хорошие (увеличить средний чек?)  \n",
       "3                                    новички  \n",
       "4                                    новички  \n",
       "5                                    новички  \n",
       "6         хорошие (напомнить/стимулировать?)  \n",
       "7         хорошие (напомнить/стимулировать?)  \n",
       "8         хорошие (напомнить/стимулировать?)  \n",
       "9   не поняли ценность продукта (есть шанс?)  \n",
       "10  не поняли ценность продукта (есть шанс?)  \n",
       "11  не поняли ценность продукта (есть шанс?)  \n",
       "12                             нужно вернуть  \n",
       "13                             нужно вернуть  \n",
       "14                             нужно вернуть  \n",
       "15               не поняли ценность продукта  \n",
       "16               не поняли ценность продукта  \n",
       "17                                    худшие  "
      ]
     },
     "execution_count": 38,
     "metadata": {},
     "output_type": "execute_result"
    }
   ],
   "source": [
    "segment_map = {\n",
    "    r'111':         'худшие',\n",
    "    r'11[2-3]':     'не поняли ценность продукта',\n",
    "    r'1[2-3][1-3]': 'нужно вернуть',\n",
    "    r'21[1-3]':     'не поняли ценность продукта (есть шанс?)',\n",
    "    r'2[2][1-3]':   'хорошие (напомнить/стимулировать?)',\n",
    "    r'31[1-3]':     'новички',\n",
    "    r'32[1-2]':     'хорошие (увеличить средний чек?)',\n",
    "    r'323':         'лучшие'\n",
    "    \n",
    "}\n",
    "rfm_df.assign(segment=rfm_df.rfm.replace(segment_map, regex=True))"
   ]
  },
  {
   "cell_type": "markdown",
   "metadata": {},
   "source": [
    "Inspired by: KCM6"
   ]
  },
  {
   "cell_type": "markdown",
   "metadata": {},
   "source": [
    "### Идеи по улучшению:\n",
    "- добавить возможность вручную вводить диапазоны bins и соответствующие им оценки"
   ]
  },
  {
   "cell_type": "code",
   "execution_count": null,
   "metadata": {},
   "outputs": [],
   "source": []
  }
 ],
 "metadata": {
  "kernelspec": {
   "display_name": "Python 3 (ipykernel)",
   "language": "python",
   "name": "python3"
  },
  "language_info": {
   "codemirror_mode": {
    "name": "ipython",
    "version": 3
   },
   "file_extension": ".py",
   "mimetype": "text/x-python",
   "name": "python",
   "nbconvert_exporter": "python",
   "pygments_lexer": "ipython3",
   "version": "3.11.4"
  }
 },
 "nbformat": 4,
 "nbformat_minor": 4
}
